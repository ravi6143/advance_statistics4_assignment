{
 "cells": [
  {
   "cell_type": "markdown",
   "id": "f283100a-250c-4868-9599-6397405ae167",
   "metadata": {},
   "source": [
    "# Question - 1\n",
    "ans - "
   ]
  },
  {
   "cell_type": "markdown",
   "id": "d9b1c1fc-8282-48cd-9ffa-5f193fd01fae",
   "metadata": {},
   "source": [
    "T-test:\n",
    "\n",
    "(a). Population Variance: The t-test is used when you don't know the population standard deviation (variance is unknown), and you estimate it from the sample data.\n",
    "\n",
    "(b). Sample Size: It is generally used for smaller sample sizes (typically less than 30). However, it becomes more robust as the sample size increases.\n",
    "\n",
    "(c). Distribution: The t-test assumes that the population data follows a normal distribution.\n",
    "\n",
    "Example Scenario for T-test:\n",
    "Suppose you want to test if there is a significant difference in the average test scores of two different groups of students (Group A and Group B). You collect a sample of 20 students from each group and calculate their average test scores. You can use a t-test to compare the means of these two samples because you likely don't know the population standard deviation, and the sample size is relatively small.\n",
    "\n",
    "Z-test:\n",
    "\n",
    "(a). Population Variance: The z-test is used when you know the population standard deviation (variance is known).\n",
    "\n",
    "(b). Sample Size: It is typically used for larger sample sizes (usually more than 30).\n",
    "\n",
    "(c). Distribution: The z-test assumes that the population data follows a normal distribution.\n",
    "\n",
    "\n",
    "Example Scenario for Z-test:\n",
    "Imagine you are testing whether a new manufacturing process results in a mean product weight that differs from the known historical population mean weight. You have collected a sample of 100 products and have access to the population standard deviation. In this case, you can use a z-test to compare the sample mean to the known population mean because you have information about the population standard deviation, and your sample size is relatively large."
   ]
  },
  {
   "cell_type": "code",
   "execution_count": null,
   "id": "c82eb3d1-919f-4470-bd4a-721e88947ec9",
   "metadata": {},
   "outputs": [],
   "source": []
  },
  {
   "cell_type": "code",
   "execution_count": null,
   "id": "0971cbd5-6694-45ba-a02e-52fa7a6a3649",
   "metadata": {},
   "outputs": [],
   "source": []
  },
  {
   "cell_type": "markdown",
   "id": "2fd0962d-42cc-4f8e-a4d8-23f59c88ed0b",
   "metadata": {},
   "source": [
    "# Question - 2\n",
    "ans - "
   ]
  },
  {
   "cell_type": "markdown",
   "id": "04df5604-425b-48d4-b866-98696262de59",
   "metadata": {},
   "source": [
    "**. One-Tailed Test:\n",
    "\n",
    "(a). Directionality: A one-tailed test is used when you are specifically interested in whether the effect is in one direction. In other words, it tests if a parameter is greater than or less than a certain value but not both.\n",
    "\n",
    "(b). Hypotheses: In a one-tailed test, you have two hypotheses: the null hypothesis (H0) and the alternative hypothesis (Ha). The null hypothesis typically states that there is no effect or no difference, while the alternative hypothesis specifies the direction of the effect.\n",
    "\n",
    "(c). Critical Region: The critical region for a one-tailed test is located on only one side of the sampling distribution's probability distribution curve.\n",
    "\n",
    "Example: Suppose you are testing a new drug, and your alternative hypothesis is that the drug is more effective than the current treatment. In this case, you would use a one-tailed test to determine if the drug's effect is statistically significant in the \"greater than\" direction.\n",
    "\n",
    "\n",
    "**. Two-Tailed Test:\n",
    "\n",
    "(a). Directionality: A two-tailed test is used when you want to determine if there is a significant effect in either direction, either greater than or less than a certain value.\n",
    "\n",
    "(b). Hypotheses: In a two-tailed test, you also have two hypotheses: the null hypothesis (H0) and the alternative hypothesis (Ha). The null hypothesis states that there is no effect or no difference, while the alternative hypothesis simply states that there is a difference but doesn't specify the direction.\n",
    "\n",
    "(c). Critical Region: The critical region for a two-tailed test is divided into two parts, one on each side of the sampling distribution's probability distribution curve.\n",
    "\n",
    "Example: Let's say you are testing the accuracy of a scale, and you want to determine if it consistently measures weights different from a known standard weight. In this case, you would use a two-tailed test because you are interested in whether the scale's measurements differ from the standard weight in either the \"greater than\" or \"less than\" direction."
   ]
  },
  {
   "cell_type": "code",
   "execution_count": null,
   "id": "83bf6a24-a768-4073-81e5-47e1cf435e7e",
   "metadata": {},
   "outputs": [],
   "source": []
  },
  {
   "cell_type": "code",
   "execution_count": null,
   "id": "85ea71b8-c031-4e7c-b606-f4774eab8b20",
   "metadata": {},
   "outputs": [],
   "source": []
  },
  {
   "cell_type": "code",
   "execution_count": null,
   "id": "4e87ff64-6554-4c13-a98e-319e0f8d5d5e",
   "metadata": {},
   "outputs": [],
   "source": []
  },
  {
   "cell_type": "markdown",
   "id": "a538e643-3181-4d27-bb18-d85834aae361",
   "metadata": {},
   "source": [
    "# Question - 3\n",
    "ans - "
   ]
  },
  {
   "cell_type": "markdown",
   "id": "1e3899c5-9161-44fd-b4c4-fcc02b47ee16",
   "metadata": {},
   "source": [
    "1. Type 1 Error (False Positive):\n",
    "\n",
    "*. Definition: A Type 1 error occurs when you reject the null hypothesis when it is actually true. In other words, you conclude that there is a significant effect or difference when there isn't one in reality.\n",
    "\n",
    "*. Symbol: Often denoted as α (alpha), the significance level or the probability of a Type 1 error.\n",
    "\n",
    "*. Example Scenario: Suppose a pharmaceutical company is testing a new drug for safety, and they set a significance level (α) of 0.05. If, based on their study, they conclude that the drug has a significant effect on patients' health (rejecting the null hypothesis), but in reality, the drug is not effective or safe (null hypothesis is true), this would be a Type 1 error.\n",
    "\n",
    "\n",
    "2. Type 2 Error (False Negative):\n",
    "\n",
    "*. Definition: A Type 2 error occurs when you fail to reject the null hypothesis when it is actually false. In other words, you conclude that there is no significant effect or difference when there is one in reality.\n",
    "\n",
    "*. Symbol: Often denoted as β (beta), the probability of a Type 2 error.\n",
    "\n",
    "*. Example Scenario: Consider a quality control scenario in a factory where they are testing whether a machine produces defective products. If, based on their study, they conclude that the machine is not producing defective products (fail to reject the null hypothesis), but in reality, the machine is indeed producing defects (null hypothesis is false), this would be a Type 2 error."
   ]
  },
  {
   "cell_type": "code",
   "execution_count": null,
   "id": "0411de90-a6f7-4565-86d8-777445508371",
   "metadata": {},
   "outputs": [],
   "source": []
  },
  {
   "cell_type": "code",
   "execution_count": null,
   "id": "4a731636-e0bc-4606-85b9-7e5e8be92e55",
   "metadata": {},
   "outputs": [],
   "source": []
  },
  {
   "cell_type": "markdown",
   "id": "a80900b4-83f6-4ac0-bba9-2a919b7024de",
   "metadata": {},
   "source": [
    "# Question - 4\n",
    "ans - "
   ]
  },
  {
   "cell_type": "markdown",
   "id": "e91ffd15-9fb4-4c22-acbd-57413949678b",
   "metadata": {},
   "source": [
    "Bayes's theorem is a fundamental concept in probability theory and statistics that describes how to update the probability for a hypothesis based on new evidence. It helps us calculate the conditional probability of a hypothesis being true given some observed data. The theorem is named after the 18th-century statistician and philosopher Thomas Bayes.\n",
    "\n",
    "Here's the general form of Bayes's theorem:\n",
    "\n",
    "p(A/B) = p(B/A).p(A)/p(B)\n",
    "\n",
    "Where:\n",
    "P(A∣B) is the conditional probability of event A happening given that event B has occurred.\n",
    "\n",
    "P(B∣A) is the conditional probability of event B happening given that event A has occurred.\n",
    "\n",
    "P(A) is the prior probability of event A occurring.\n",
    "\n",
    "P(B) is the prior probability of event B occurring.\n",
    "\n",
    "To illustrate Bayes's theorem, let's use a classic example known as the \"diagnostic test example.\"\n",
    "\n",
    "Scenario:\n",
    "Imagine you are a doctor, and you are trying to determine whether a patient has a certain medical condition (Condition A) based on the results of a diagnostic test (Test B). You know the following probabilities:\n",
    "\n",
    "*.The probability that a patient has Condition A (P(A)): 0.01 (1% of the population has the condition).\n",
    "\n",
    "*.The probability that the test correctly identifies a patient with Condition A (P(B∣A)): 0.95 (95% sensitivity).\n",
    "\n",
    "*.The probability that the test correctly identifies a patient without Condition A (P(B∣¬A)): 0.90 (90% specificity).\n",
    "\n",
    "Now, you want to find the probability that a patient has Condition A given that the test came back positive(P(A∣B))\n",
    "\n",
    "\n",
    "Using Bayes's theorem:\n",
    "\n",
    "P(A∣B)=  P(B∣A)⋅P(A)/P(B)\n",
    "\n",
    "\n",
    "Calculate the denominator, \n",
    "\n",
    "P(B), which is the total probability of testing positive. You can find this using the law of total probability:\n",
    "\n",
    "\n",
    "P(B) = P(B∣A)⋅P(A)+P(B∣¬A)⋅P(¬A)\n",
    "\n",
    "\n",
    "P(B∣A)⋅P(A): The probability of testing positive if you have the condition (true positive).\n",
    "\n",
    "P(B∣¬A)⋅P(¬A): The probability of testing positive if you don't have the condition (false positive).\n",
    "\n",
    "\n",
    "Plugging in the values:\n",
    "\n",
    "P(B) = (0.95*0.01) + (0.10*0.99) = 0.1045\n",
    "\n",
    "\n",
    "\n",
    "Now, you can calculate\n",
    "P(A∣B) using Bayes's theorem:\n",
    "\n",
    "P(A/B) = P(B/A).P(A)/P(B)\n",
    "\n",
    "P(A/B) = 0.95*0.01/0.1045 == 0.0905\n",
    "\n",
    "So, given that the test came back positive, the probability that the patient actually has Condition A is approximately 0.0905, or about 9.05%. This illustrates how Bayes's theorem can help update our beliefs (in this case, the probability of having the medical condition) based on new evidence (the positive test result)."
   ]
  },
  {
   "cell_type": "code",
   "execution_count": null,
   "id": "80a0b416-90da-4386-8033-c5141ce11037",
   "metadata": {},
   "outputs": [],
   "source": []
  },
  {
   "cell_type": "code",
   "execution_count": null,
   "id": "f41df140-37dd-46c8-8bb0-7df9cda529d7",
   "metadata": {},
   "outputs": [],
   "source": []
  },
  {
   "cell_type": "markdown",
   "id": "f04ec175-c5be-4494-98d1-441a22b20684",
   "metadata": {},
   "source": [
    "# Question - 5\n",
    "ans - "
   ]
  },
  {
   "cell_type": "markdown",
   "id": "0337085c-96b1-4575-80dc-ab8180839df1",
   "metadata": {},
   "source": [
    "A confidence interval is a statistical range that provides an estimate of the true population parameter with a specified level of confidence. It is a way to quantify the uncertainty associated with estimating a population parameter from a sample of data. Confidence intervals are commonly used in inferential statistics to describe the precision and reliability of sample statistics, such as the mean or proportion, as estimates of the population parameter.\n",
    "\n",
    "The formula for calculating a confidence interval depends on the parameter being estimated (e.g., population mean, population proportion) and the distribution of the data. Here's a general formula for a confidence interval:\n",
    "\n",
    "Confidence Interval\n",
    "=\n",
    "Sample Statistic ± Margin of Error\n",
    "\n",
    "\n",
    "\n",
    "\n",
    "The margin of error depends on the desired level of confidence and the standard error of the sample statistic. The standard error takes into account the variability in the sample data and is often calculated differently for different parameters (e.g., mean, proportion).\n",
    "\n",
    "Let's illustrate the concept of a confidence interval with an example:\n",
    "\n",
    "Example: Confidence Interval for Population Mean\n",
    "\n",
    "Suppose you want to estimate the average height of all adults in a certain city. You take a random sample of 100 adults and measure their heights. The sample mean height is 170 cm, and you want to construct a 95% confidence interval for the population mean height.\n",
    "\n",
    "Calculate the Margin of Error:\n",
    "The margin of error depends on the standard error and the desired level of confidence. For a population mean, the standard error is typically calculated as:\n",
    "\n",
    "Standard Error (SE)\n",
    "=\n",
    "\n",
    " \n",
    "Sample Standard Deviation / sqrt of sample size\n",
    " \n",
    "\n",
    "Let's assume the sample standard deviation is 5 cm.\n",
    "\n",
    "SE = 5/sqrt(100)\n",
    "   = 5/10 = 0.5\n",
    "\n",
    "*. To calculate the margin of error (MOE) for a 95% confidence interval, you can use the critical value associated with a 95% confidence level from a standard normal distribution (commonly denoted as Z). For a 95% confidence interval, \n",
    "\n",
    "Z is approximately 1.96 (you can find this value in standard normal distribution tables or use a calculator).\n",
    "\n",
    "MOE = SE*Z\n",
    "    = 0.5*1.96 = 0.98cm\n",
    "\n",
    "\n",
    "\n",
    "*.Construct the Confidence Interval:\n",
    "Now, you can construct the confidence interval using the formula:\n",
    "\n",
    "Confidence Interval:\n",
    "\n",
    "Confidence Interval=Sample Mean ± Margin of Error\n",
    "\n",
    "Confidence Interval\n",
    "=\n",
    "\n",
    "Confidence Interval=170 ± 0.98\n",
    "\n",
    "So, the 95% confidence interval for the population mean height is approximately \n",
    "170±0.98, which means you can be 95% confident that the true population mean height falls within the interval \n",
    "\n",
    "\n",
    "[169.02 , 170.98] cm.\n",
    "\n",
    "In this example, if you were to take multiple random samples and construct 95% confidence intervals from each, you would expect about 95% of these intervals to contain the true population mean height."
   ]
  },
  {
   "cell_type": "code",
   "execution_count": null,
   "id": "f8f31ebb-96be-42e8-9268-05bda4dc23bf",
   "metadata": {},
   "outputs": [],
   "source": []
  },
  {
   "cell_type": "code",
   "execution_count": null,
   "id": "66af6558-57f2-44f3-964b-ea7e77ba5694",
   "metadata": {},
   "outputs": [],
   "source": []
  },
  {
   "cell_type": "markdown",
   "id": "57710271-8a42-46a9-9cec-c3eee8996a9c",
   "metadata": {},
   "source": [
    "# Question - 6\n",
    "ans - "
   ]
  },
  {
   "cell_type": "code",
   "execution_count": 2,
   "id": "af979b27-61c7-4acf-bb1f-3df6a2333bb1",
   "metadata": {},
   "outputs": [
    {
     "name": "stdout",
     "output_type": "stream",
     "text": [
      "The probability that the defective bulb was produced by Machine A is approximately 0.6667 or 66.67%\n"
     ]
    }
   ],
   "source": [
    "# Define prior probabilities\n",
    "\n",
    "P_A = 0.80  # Probability that a bulb is produced by Machine A\n",
    "\n",
    "P_B = 0.20  # Probability that a bulb is produced by Machine B\n",
    "\n",
    "# Define conditional probabilities\n",
    "\n",
    "P_D_given_A = 0.05  # Probability of a defective bulb given Machine A\n",
    "\n",
    "P_D_given_B = 0.10  # Probability of a defective bulb given Machine B\n",
    "\n",
    "# Calculate the probability of a defective bulb (denominator)\n",
    "\n",
    "P_D = (P_D_given_A * P_A) + (P_D_given_B * P_B)\n",
    "\n",
    "# Calculate the probability that the bulb was produced by Machine A given it's defective (numerator)\n",
    "\n",
    "P_A_given_D = (P_D_given_A * P_A) / P_D\n",
    "\n",
    "print(f\"The probability that the defective bulb was produced by Machine A is approximately {P_A_given_D:.4f} or {P_A_given_D*100:.2f}%\")\n"
   ]
  },
  {
   "cell_type": "code",
   "execution_count": null,
   "id": "3bc1120a-6466-4c78-beef-e7889d19aa93",
   "metadata": {},
   "outputs": [],
   "source": []
  },
  {
   "cell_type": "code",
   "execution_count": null,
   "id": "43eb0c3d-5ca2-4c5d-8586-691399378abc",
   "metadata": {},
   "outputs": [],
   "source": []
  },
  {
   "cell_type": "code",
   "execution_count": null,
   "id": "5172e098-b4f2-4383-8067-bfc322ff731e",
   "metadata": {},
   "outputs": [],
   "source": []
  },
  {
   "cell_type": "markdown",
   "id": "49c46133-c8a1-4582-bd2c-0db3467aeb7a",
   "metadata": {},
   "source": [
    "# Question - 7\n",
    "ans - "
   ]
  },
  {
   "cell_type": "code",
   "execution_count": 9,
   "id": "8f123ba8-289b-4703-afe7-41698da5462b",
   "metadata": {},
   "outputs": [
    {
     "name": "stdout",
     "output_type": "stream",
     "text": [
      "for 95% confidence interval : (Lower_bound =48.21 , Upper_bound is =51.79)\n",
      "we are 95% confident that the true population mean lies between 48.21 , 51.79\n"
     ]
    }
   ],
   "source": [
    "import scipy.stats as stats\n",
    "import math\n",
    "\n",
    "sample_mean = 50\n",
    "sample_std = 5\n",
    "confidence_interval = 0.95\n",
    "significance_levle = 0.05\n",
    "sample_size = 30\n",
    "\n",
    "z_score = stats.norm.ppf(1-significance_levle/2)\n",
    "\n",
    "standard_error = sample_std/math.sqrt(sample_size)\n",
    "\n",
    "margin_of_error = standard_error*z_score\n",
    "\n",
    "upper_bound = sample_mean + margin_of_error\n",
    "lower_bound = sample_mean - margin_of_error\n",
    "\n",
    "print(f\"for 95% confidence interval : (Lower_bound ={lower_bound:.2f} , Upper_bound is ={upper_bound:.2f})\")\n",
    "\n",
    "print(f\"we are 95% confident that the true population mean lies between {lower_bound:.2f} , {upper_bound:.2f}\")"
   ]
  },
  {
   "cell_type": "code",
   "execution_count": null,
   "id": "7e24ead2-7d77-4a4e-a728-c14433f91248",
   "metadata": {},
   "outputs": [],
   "source": []
  },
  {
   "cell_type": "code",
   "execution_count": null,
   "id": "32f436cd-4f4b-4d00-904c-cecd90cd0e11",
   "metadata": {},
   "outputs": [],
   "source": []
  },
  {
   "cell_type": "markdown",
   "id": "e0733331-1bfd-492c-a9a2-18c82b274576",
   "metadata": {},
   "source": [
    "# Question -8\n",
    "ans - "
   ]
  },
  {
   "cell_type": "markdown",
   "id": "d595a9e7-bcf4-45c4-bcbe-e1d70c1fa392",
   "metadata": {},
   "source": [
    "The margin of error (MOE) in a confidence interval is a measure of the uncertainty or variability associated with estimating a population parameter (e.g., population mean or proportion) based on a sample of data. It represents the range within which we expect the true population parameter to fall with a certain level of confidence. The margin of error is influenced by several factors, including the sample size.\n",
    "\n",
    "Here's how sample size affects the margin of error:\n",
    "\n",
    "Larger Sample Size and Smaller Margin of Error:\n",
    "\n",
    "\n",
    "Increasing the sample size generally results in a smaller margin of error. This means that with a larger sample, the estimate of the population parameter becomes more precise and less uncertain.\n",
    "As the sample size grows, the standard error (a measure of how spread out the sample data is) decreases, leading to a narrower range for the confidence interval.\n",
    "A larger sample size provides more information about the population, reducing the need for a wide margin of error to capture potential variability.\n",
    "\n",
    "\n",
    "Example Scenario:\n",
    "Let's consider a scenario where sample size affects the margin of error:\n",
    "\n",
    "Suppose you are conducting a political survey to estimate the proportion of voters in a city who support a particular candidate. You want to construct a 95% confidence interval for this proportion. You have two options:\n",
    "\n",
    "Option 1: Small Sample Size\n",
    "\n",
    "You survey 100 randomly selected voters in the city.\n",
    "Your 95% confidence interval might be relatively wide, say (45%, 55%), which means you are 95% confident that the true proportion of supporters falls within this range.\n",
    "\n",
    "\n",
    "Option 2: Large Sample Size\n",
    "You survey 1,000 randomly selected voters in the city.\n",
    "Your 95% confidence interval might be much narrower, say (48%, 52%), indicating a higher level of precision in your estimate.\n",
    "\n",
    "\n",
    "In this scenario, the larger sample size (Option 2) results in a smaller margin of error, as the increased sample size provides more data points and reduces the uncertainty in estimating the true proportion of supporters. Researchers often aim for larger sample sizes when seeking more precise estimates and smaller margins of error, but this can come at a higher cost in terms of time and resources."
   ]
  },
  {
   "cell_type": "code",
   "execution_count": null,
   "id": "60a54e0c-0c5d-481b-a486-134d292b211f",
   "metadata": {},
   "outputs": [],
   "source": []
  },
  {
   "cell_type": "code",
   "execution_count": null,
   "id": "3985bb56-af66-4596-ada7-c83a4c631a6c",
   "metadata": {},
   "outputs": [],
   "source": []
  },
  {
   "cell_type": "markdown",
   "id": "b98e37ac-3d9f-4996-b178-68863f578f03",
   "metadata": {},
   "source": [
    "# Question - 9\n",
    "ans - "
   ]
  },
  {
   "cell_type": "code",
   "execution_count": 12,
   "id": "9e48795a-614e-4072-8f5b-937619bf2fcb",
   "metadata": {},
   "outputs": [
    {
     "name": "stdout",
     "output_type": "stream",
     "text": [
      "z score for the Data point 75 is 1.00\n"
     ]
    }
   ],
   "source": [
    "import scipy.stats as stats\n",
    "import math\n",
    "\n",
    "\n",
    "data_point = 75\n",
    "population_mean = 70\n",
    "population_std = 5\n",
    "\n",
    "z_score = (data_point - population_mean) / population_std\n",
    "\n",
    "print(f\"z score for the Data point {data_point} is {z_score:.2f}\")"
   ]
  },
  {
   "cell_type": "markdown",
   "id": "d3a1a583-fd7e-45cd-a4f7-a297d84ba0bd",
   "metadata": {},
   "source": [
    "Interpretation:\n",
    "The z-score tells us how many standard deviations a data point is away from the mean. In this case, a z-score of 1 indicates that the data point (75) is one standard deviation above the mean (70) in the positive direction."
   ]
  },
  {
   "cell_type": "code",
   "execution_count": null,
   "id": "ff2fb78c-514c-4ef8-80ab-1464c48dbc80",
   "metadata": {},
   "outputs": [],
   "source": []
  },
  {
   "cell_type": "code",
   "execution_count": null,
   "id": "14eb9b9b-9533-4b70-8ee2-76acbddd4928",
   "metadata": {},
   "outputs": [],
   "source": []
  },
  {
   "cell_type": "markdown",
   "id": "48ea8f0b-534c-4462-a75d-42134d03814b",
   "metadata": {},
   "source": [
    "# Question - 10\n",
    "ans - "
   ]
  },
  {
   "cell_type": "code",
   "execution_count": 5,
   "id": "8b0096f6-6c22-487f-93ee-50c116532492",
   "metadata": {},
   "outputs": [
    {
     "name": "stdout",
     "output_type": "stream",
     "text": [
      "16.970562748477143\n",
      "1.6765508919142629\n",
      "null hypothesis is rejected \n",
      "conclusion is that the drung is significantly effective\n"
     ]
    }
   ],
   "source": [
    "import scipy.stats as stats\n",
    "import math\n",
    "\n",
    "sample_size = 50\n",
    "sample_mean = 6\n",
    "sample_std = 2.5\n",
    "confidence_interval = 0.95\n",
    "significance_level = 0.05\n",
    "dof = 49\n",
    "\n",
    "null_hypothesis = (\"sample_mean is <= 0\")\n",
    "alternate_hypothesis = (\"sample_mean is > 0\")\n",
    "\n",
    "standard_error = sample_std/math.sqrt(sample_size)\n",
    "\n",
    "t_statistics = (sample_mean - 0) / standard_error\n",
    "\n",
    "print(t_statistics)\n",
    "\n",
    "critical_value = stats.t.ppf(1-significance_level , dof)\n",
    "print(critical_value)\n",
    "\n",
    "if t_statistics > critical_value:\n",
    "    print(\"null hypothesis is rejected \")\n",
    "    \n",
    "else :\n",
    "    print(\"failed to reject the null hypothesis \")\n",
    "    \n",
    "print(\"conclusion is that the drung is significantly effective\")\n",
    "    \n",
    "\n",
    "\n"
   ]
  },
  {
   "cell_type": "code",
   "execution_count": null,
   "id": "9817e10e-0eae-4a27-95a0-2d2c3e3df1b0",
   "metadata": {},
   "outputs": [],
   "source": []
  },
  {
   "cell_type": "code",
   "execution_count": null,
   "id": "bcd4ca55-453d-450b-8b63-b23951c9f6ca",
   "metadata": {},
   "outputs": [],
   "source": []
  },
  {
   "cell_type": "code",
   "execution_count": null,
   "id": "a95ffca6-bb59-4a28-9bfc-662b3ae347f6",
   "metadata": {},
   "outputs": [],
   "source": []
  },
  {
   "cell_type": "markdown",
   "id": "9a745932-3922-40c5-b1af-1194cb94c5ba",
   "metadata": {},
   "source": [
    "# Question - 11\n",
    "ans - "
   ]
  },
  {
   "cell_type": "code",
   "execution_count": 16,
   "id": "03d8b90f-05d6-4bb7-bd8a-6ffcc57a35b8",
   "metadata": {},
   "outputs": [
    {
     "name": "stdout",
     "output_type": "stream",
     "text": [
      "Z-test is 1.959963984540054\n",
      "Standard_error is 0.02133072900770154\n",
      "Margin error is 0.04180746061907883\n",
      "for 95% confidence interval is  60.8193 to 69.1807\n",
      "\n"
     ]
    }
   ],
   "source": [
    "import math\n",
    "import scipy.stats as stats\n",
    "\n",
    "sample_proportion = 0.65\n",
    "sample_size = 500\n",
    "confidence_interval = 0.95\n",
    "significance_level = 1-confidence_interval\n",
    "\n",
    "\n",
    "z_test = stats.norm.ppf(1-significance_level/2 )\n",
    "print(f\"Z-test is {z_test}\")\n",
    "\n",
    "standard_error = math.sqrt(sample_proportion*(1-sample_proportion)/sample_size)\n",
    "print(f\"Standard_error is {standard_error}\")\n",
    "\n",
    "margin_error = z_test*standard_error\n",
    "\n",
    "print(f\"Margin error is {margin_error}\")\n",
    "\n",
    "lower_bound = sample_proportion - margin_error\n",
    "upper_bound = sample_proportion + margin_error\n",
    "\n",
    "print(f\"for 95% confidence interval is  {(lower_bound*100):.4f} to {(upper_bound*100):.4f}\")\n",
    "\n",
    "\n",
    "\n"
   ]
  },
  {
   "cell_type": "code",
   "execution_count": null,
   "id": "1f6082c1-005a-4a8f-b2a7-e9ec8c01dd5a",
   "metadata": {},
   "outputs": [],
   "source": []
  },
  {
   "cell_type": "code",
   "execution_count": null,
   "id": "cf302c93-793e-4130-9da5-73555ef0456a",
   "metadata": {},
   "outputs": [],
   "source": []
  },
  {
   "cell_type": "markdown",
   "id": "323b0d19-31d4-4490-9c2f-3e3cfd18a1be",
   "metadata": {},
   "source": [
    "# Question -12\n",
    "ans - "
   ]
  },
  {
   "cell_type": "code",
   "execution_count": 3,
   "id": "357e28f0-5d62-4691-88f1-269314b59b70",
   "metadata": {},
   "outputs": [
    {
     "name": "stdout",
     "output_type": "stream",
     "text": [
      "degree of freedom is 58\n",
      "T_statics value is 2.1038606199548298 ans P_value is 0.03973697161571063\n",
      "failed to reject null hypothesis , there is no significant difference in two teaching methods\n"
     ]
    }
   ],
   "source": [
    "import scipy.stats as stats\n",
    "\n",
    "sample_A = 30\n",
    "mean_A = 85\n",
    "std_A = 6\n",
    "\n",
    "sample_B = 30\n",
    "mean_B = 82\n",
    "std_B = 5\n",
    "\n",
    "alpha = 0.01\n",
    "dof = sample_A+sample_B - 2\n",
    "print(f\"degree of freedom is {dof}\")\n",
    "\n",
    "t_statics , p_value = stats.ttest_ind_from_stats(mean1 = mean_A , std1 = std_A , nobs1 = sample_A,\n",
    "                                                 mean2 = mean_B , std2 = std_B , nobs2 = sample_B)\n",
    "print(f\"T_statics value is {t_statics} ans P_value is {p_value}\")\n",
    "\n",
    "if p_value < alpha:\n",
    "    print(\"null hypothesis is rejected ,there is a significant differece in two teaching methods\")\n",
    "    \n",
    "else:\n",
    "    print(\"failed to reject null hypothesis , there is no significant difference in two teaching methods\")"
   ]
  },
  {
   "cell_type": "code",
   "execution_count": null,
   "id": "af95f292-40df-45fd-b570-737693ac5685",
   "metadata": {},
   "outputs": [],
   "source": []
  },
  {
   "cell_type": "code",
   "execution_count": null,
   "id": "6684dce0-31be-4daf-83bb-e430d3640765",
   "metadata": {},
   "outputs": [],
   "source": []
  },
  {
   "cell_type": "markdown",
   "id": "9986384d-d88d-47c6-a1d9-0dd5544cb084",
   "metadata": {},
   "source": [
    "# Question - 13\n",
    "ans - "
   ]
  },
  {
   "cell_type": "code",
   "execution_count": 12,
   "id": "f7a2e162-f168-4f65-9493-d109b4fd6fe0",
   "metadata": {},
   "outputs": [
    {
     "name": "stdout",
     "output_type": "stream",
     "text": [
      "standard error is 1.131370849898476\n",
      "Z_value is 1.6448536269514722\n",
      "Margin of error is 1.860939445882678\n",
      "lower bound is 58.13906055411732\n",
      "for 90% confidence interval population mean is 58.14 to 61.86\n"
     ]
    }
   ],
   "source": [
    "import scipy.stats as stats\n",
    "import math\n",
    "\n",
    "pop_mean = 60\n",
    "pop_std = 8\n",
    "\n",
    "sample_size = 50\n",
    "sample_mean = 65\n",
    "\n",
    "confidence_level = 0.90\n",
    "alpha = 1-confidence_level\n",
    "\n",
    "standard_error = pop_std/math.sqrt(sample_size)\n",
    "print(f\"standard error is {standard_error}\")\n",
    "\n",
    "\n",
    "z_critcal = stats.norm.ppf(1-alpha/2)\n",
    "print(f\"Z_value is {z_critical}\")\n",
    "\n",
    "margin_error = z_critcal*standard_error\n",
    "print(f\"Margin of error is {margin_error}\")\n",
    "\n",
    "lower_bound = pop_mean - margin_error\n",
    "print(f\"lower bound is {lower_bound}\")\n",
    "upper_bound = pop_mean + margin_error\n",
    "\n",
    "print(f\"for 90% confidence interval population mean is {lower_bound:.2f} to {upper_bound:.2f}\")"
   ]
  },
  {
   "cell_type": "code",
   "execution_count": null,
   "id": "9792ed39-8070-4791-bebc-e8e5d65b5b6e",
   "metadata": {},
   "outputs": [],
   "source": []
  },
  {
   "cell_type": "code",
   "execution_count": null,
   "id": "c88fc244-c7b1-43a1-92b5-c0d8d20c170a",
   "metadata": {},
   "outputs": [],
   "source": []
  },
  {
   "cell_type": "code",
   "execution_count": null,
   "id": "025226ca-5221-4ece-b93a-822a395da944",
   "metadata": {},
   "outputs": [],
   "source": []
  },
  {
   "cell_type": "markdown",
   "id": "56667999-db92-403d-9408-d81bfdfdecf9",
   "metadata": {},
   "source": [
    "# Question - 14\n",
    "ans - "
   ]
  },
  {
   "cell_type": "code",
   "execution_count": 16,
   "id": "a0efe09b-dc95-4956-9bf2-95844bef0604",
   "metadata": {},
   "outputs": [
    {
     "name": "stdout",
     "output_type": "stream",
     "text": [
      "failed to reject null hypothesis , there is no significant effect of caffeine on reaction time for 90% confidence interval\n"
     ]
    }
   ],
   "source": [
    "import math\n",
    "import scipy.stats as stats\n",
    "\n",
    "sample_size = 30\n",
    "df = 29\n",
    "sample_mean = 0.25\n",
    "hypothesized_pop_mean = 0.25\n",
    "sample_std = 0.05\n",
    "confidence_level = 0.90\n",
    "significance_level = 1-confidence_level\n",
    "\n",
    "t_statistics = (sample_mean - hypothesized_pop_mean)/(sample_std/math.sqrt(sample_size))\n",
    "\n",
    "t_critical = stats.t.ppf(1-significance_level/2,df =29 )\n",
    "\n",
    "if t_statistics > t_critical:\n",
    "    print(\"null hypothesis is rejected , there is significant effect of caffeine on reaction time for 90% confidence interval\")\n",
    "    \n",
    "else:\n",
    "    print(\"failed to reject null hypothesis , there is no significant effect of caffeine on reaction time for 90% confidence interval\")\n",
    "\n"
   ]
  },
  {
   "cell_type": "code",
   "execution_count": null,
   "id": "5f397daf-65c3-479b-b324-ee0400b7f5ee",
   "metadata": {},
   "outputs": [],
   "source": []
  }
 ],
 "metadata": {
  "kernelspec": {
   "display_name": "Python 3 (ipykernel)",
   "language": "python",
   "name": "python3"
  },
  "language_info": {
   "codemirror_mode": {
    "name": "ipython",
    "version": 3
   },
   "file_extension": ".py",
   "mimetype": "text/x-python",
   "name": "python",
   "nbconvert_exporter": "python",
   "pygments_lexer": "ipython3",
   "version": "3.10.8"
  }
 },
 "nbformat": 4,
 "nbformat_minor": 5
}
